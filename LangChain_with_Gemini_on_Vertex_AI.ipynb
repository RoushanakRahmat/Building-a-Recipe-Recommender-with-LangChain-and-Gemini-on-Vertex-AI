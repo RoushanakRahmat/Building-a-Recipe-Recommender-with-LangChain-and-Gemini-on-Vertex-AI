{
  "nbformat": 4,
  "nbformat_minor": 0,
  "metadata": {
    "colab": {
      "provenance": []
    },
    "kernelspec": {
      "name": "python3",
      "display_name": "Python 3"
    },
    "language_info": {
      "name": "python"
    }
  },
  "cells": [
    {
      "cell_type": "markdown",
      "source": [
        "**Building a Recipe Recommender with LangChain and Gemini on Vertex AI**"
      ],
      "metadata": {
        "id": "Mt-xWGYwiR9m"
      }
    },
    {
      "cell_type": "markdown",
      "source": [
        "Install Necessary Libraries"
      ],
      "metadata": {
        "id": "yhoMmh5hiYxk"
      }
    },
    {
      "cell_type": "code",
      "source": [
        "!pip install google-cloud-aiplatform\n",
        "!pip install langchain"
      ],
      "metadata": {
        "id": "MSoiqo_ZhwqE"
      },
      "execution_count": null,
      "outputs": []
    },
    {
      "cell_type": "markdown",
      "source": [
        "Import Libraries and Initialize VertexAI Object"
      ],
      "metadata": {
        "id": "uP8q0QI4idXO"
      }
    },
    {
      "cell_type": "code",
      "source": [
        "# Import Libraries\n",
        "from langchain_google_vertexai import VertexAI\n",
        "from langchain.prompts import PromptTemplate\n",
        "\n",
        "# Initialize the Vertex AI model\n",
        "model = VertexAI(model_name=\"gemini-pro\", max_output_tokens=1000)"
      ],
      "metadata": {
        "id": "UtQ1pm5XhybV"
      },
      "execution_count": null,
      "outputs": []
    },
    {
      "cell_type": "markdown",
      "source": [
        "Ask a Basic Question"
      ],
      "metadata": {
        "id": "_DmPRaAbipyt"
      }
    },
    {
      "cell_type": "code",
      "source": [
        "message = \"What is the benefit of low carb diet\"\n",
        "await model.ainvoke(message)"
      ],
      "metadata": {
        "id": "huj7WOaQhySi"
      },
      "execution_count": null,
      "outputs": []
    },
    {
      "cell_type": "markdown",
      "source": [
        "Stream Longer Responses (Optional)"
      ],
      "metadata": {
        "id": "eGw1sr8tirt-"
      }
    },
    {
      "cell_type": "code",
      "source": [
        "for chunk in model.stream(message):\n",
        "    print(chunk, end=\"\", flush=True)"
      ],
      "metadata": {
        "id": "UgdzwteGh58u"
      },
      "execution_count": null,
      "outputs": []
    },
    {
      "cell_type": "markdown",
      "source": [
        "Define a Prompt Template"
      ],
      "metadata": {
        "id": "p_6mfS-2izOV"
      }
    },
    {
      "cell_type": "code",
      "source": [
        "# Prompt for creating a custom food recipe\n",
        "template = \"\"\"\n",
        "I want to create a new and exciting recipe.\n",
        "Please help me by:\n",
        "\n",
        "* **Suggesting a unique dish name:** {dish_name}\n",
        "* **Providing a list of ingredients:** {ingredients}\n",
        "* **Creating detailed instructions:** {instructions}\n",
        "\n",
        "Make sure the recipe is {cuisine} and has {flavor_profile} flavors.\n",
        "Consider using {special_ingredient} as a key element in the recipe.\n",
        "\n",
        "I'm looking for something {difficulty} to make.\n",
        "\"\"\""
      ],
      "metadata": {
        "id": "ovO8i-DSh54C"
      },
      "execution_count": null,
      "outputs": []
    },
    {
      "cell_type": "markdown",
      "source": [
        "Combine Template with Language Model"
      ],
      "metadata": {
        "id": "oISqcVXFi6Rw"
      }
    },
    {
      "cell_type": "code",
      "source": [
        "# ---  Create the Prompt Template and Chain ---\n",
        "# This section creates the prompt template and combines it with the language model\n",
        "# to form a chain for generating recipes.\n",
        "prompt = PromptTemplate.from_template(template)\n",
        "chain = prompt | model"
      ],
      "metadata": {
        "id": "b6VqYGdrh51U"
      },
      "execution_count": null,
      "outputs": []
    },
    {
      "cell_type": "markdown",
      "source": [
        "Generate Custom Responses"
      ],
      "metadata": {
        "id": "PdT2QxF9jCgP"
      }
    },
    {
      "cell_type": "code",
      "source": [
        "# Example request (customize this!)\n",
        "request = {\n",
        "    \"dish_name\": \" \",  # Leave blank for model to suggest\n",
        "    \"ingredients\": \" \",  # Leave blank for model to suggest\n",
        "    \"instructions\": \" \",  # Leave blank for model to suggest\n",
        "    \"cuisine\": \"Italian\",\n",
        "    \"flavor_profile\": \"Savory and Aromatic\",\n",
        "    \"special_ingredient\": \"Sun-dried tomatoes\",\n",
        "    \"difficulty\": \"Easy\"\n",
        "}\n",
        "\n",
        "# Generate the recipe\n",
        "print(chain.invoke(request))"
      ],
      "metadata": {
        "id": "c5qZiOd5i-y7"
      },
      "execution_count": null,
      "outputs": []
    }
  ]
}